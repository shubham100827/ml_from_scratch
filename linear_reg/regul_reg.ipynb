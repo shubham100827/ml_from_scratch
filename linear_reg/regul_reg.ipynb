{
 "cells": [
  {
   "cell_type": "code",
   "execution_count": 1,
   "id": "f82504a0",
   "metadata": {},
   "outputs": [],
   "source": [
    "import numpy as np \n",
    "import matplotlib.pyplot as plt\n",
    "import seaborn as sns\n",
    "from sklearn import datasets\n",
    "\n",
    "from sklearn.datasets import fetch_california_housing\n",
    "from sklearn.metrics import mean_absolute_percentage_error, mean_squared_error, r2_score\n",
    "X, y = fetch_california_housing(as_frame=True, return_X_y=True)"
   ]
  },
  {
   "cell_type": "code",
   "execution_count": 11,
   "id": "fedc5b9e",
   "metadata": {},
   "outputs": [],
   "source": [
    "def standard_scaler(X):\n",
    "    means = X.mean(0)\n",
    "    stds = X.std(0)\n",
    "    return (X - means)/stds\n",
    "\n",
    "def sign(x, first_element_zero = False):\n",
    "    signs = (-1)**(x < 0)\n",
    "    if first_element_zero:\n",
    "        signs[0] = 0\n",
    "    return signs"
   ]
  },
  {
   "cell_type": "code",
   "execution_count": 12,
   "id": "02e6d14d",
   "metadata": {},
   "outputs": [],
   "source": [
    "class RegularizedRegression:\n",
    "        \n",
    "    def _record_info(self, X, y, lam, intercept, standardize):\n",
    "        \n",
    "        # standardize \n",
    "        if standardize == True: \n",
    "            X = standard_scaler(X)\n",
    "        \n",
    "        # add intercept\n",
    "        if intercept == False: \n",
    "            ones = np.ones(len(X)).reshape(len(X), 1) # column of ones \n",
    "            X = np.concatenate((ones, X), axis = 1) # concatenate\n",
    "            \n",
    "        # record values\n",
    "        self.X = np.array(X)\n",
    "        self.y = np.array(y)\n",
    "        self.N, self.D = self.X.shape\n",
    "        self.lam = lam\n",
    "        \n",
    "    def fit_ridge(self, X, y, lam = 0, intercept = False, standardize = True):\n",
    "        \n",
    "        # record data and dimensions\n",
    "        self._record_info(X, y, lam, intercept, standardize)\n",
    "        \n",
    "        # estimate parameters\n",
    "        XtX = np.dot(self.X.T, self.X)\n",
    "        I_prime = np.eye(self.D)\n",
    "        I_prime[0,0] = 0 \n",
    "        XtX_plus_lam_inverse = np.linalg.inv(XtX + self.lam*I_prime)\n",
    "        Xty = np.dot(self.X.T, self.y)\n",
    "        self.beta_hats = np.dot(XtX_plus_lam_inverse, Xty)\n",
    "        \n",
    "        # get fitted values\n",
    "        self.y_hat = np.dot(self.X, self.beta_hats)\n",
    "        \n",
    "        \n",
    "    def fit_lasso(self, X, y, lam = 0, n_iters = 2000,\n",
    "                  lr = 0.0001, intercept = False, standardize = True):\n",
    "\n",
    "        # record data and dimensions\n",
    "        self._record_info(X, y, lam, intercept, standardize)\n",
    "        \n",
    "        # estimate parameters\n",
    "        beta_hats = np.random.randn(self.D)\n",
    "        for i in range(n_iters):\n",
    "            dL_dbeta = -self.X.T @ (self.y - (self.X @ beta_hats)) + self.lam*sign(beta_hats, True)\n",
    "            beta_hats -= lr*dL_dbeta \n",
    "        self.beta_hats = beta_hats\n",
    "        \n",
    "        # get fitted values\n",
    "        self.y_hat = np.dot(self.X, self.beta_hats)"
   ]
  },
  {
   "cell_type": "code",
   "execution_count": 13,
   "id": "cc4fa8b9",
   "metadata": {},
   "outputs": [
    {
     "name": "stderr",
     "output_type": "stream",
     "text": [
      "C:\\Users\\DELL\\AppData\\Local\\Temp\\ipykernel_7220\\2475112960.py:46: RuntimeWarning: overflow encountered in matmul\n",
      "  dL_dbeta = -self.X.T @ (self.y - (self.X @ beta_hats)) + self.lam*sign(beta_hats, True)\n",
      "C:\\Users\\DELL\\AppData\\Local\\Temp\\ipykernel_7220\\2475112960.py:46: RuntimeWarning: invalid value encountered in matmul\n",
      "  dL_dbeta = -self.X.T @ (self.y - (self.X @ beta_hats)) + self.lam*sign(beta_hats, True)\n"
     ]
    }
   ],
   "source": [
    "# set lambda\n",
    "lam = 10\n",
    "\n",
    "# fit ridge\n",
    "ridge_model = RegularizedRegression()\n",
    "ridge_model.fit_ridge(X, y, lam)\n",
    "\n",
    "# fit lasso\n",
    "lasso_model = RegularizedRegression()\n",
    "lasso_model.fit_lasso(X, y, lam)"
   ]
  },
  {
   "cell_type": "code",
   "execution_count": null,
   "id": "c5d2d1a8",
   "metadata": {},
   "outputs": [],
   "source": []
  },
  {
   "cell_type": "code",
   "execution_count": null,
   "id": "a828a065",
   "metadata": {},
   "outputs": [],
   "source": []
  },
  {
   "cell_type": "markdown",
   "id": "409afa87",
   "metadata": {},
   "source": [
    "## Sklearn implimentation"
   ]
  },
  {
   "cell_type": "code",
   "execution_count": 16,
   "id": "9a40bcb6",
   "metadata": {},
   "outputs": [],
   "source": [
    "from sklearn.model_selection import train_test_split\n",
    "X_train, X_test, y_train, y_test = train_test_split(X, y, test_size=0.2, random_state=42)"
   ]
  },
  {
   "cell_type": "markdown",
   "id": "9902d48e",
   "metadata": {},
   "source": [
    "### RIDGE"
   ]
  },
  {
   "cell_type": "code",
   "execution_count": null,
   "id": "3b26fea5",
   "metadata": {},
   "outputs": [],
   "source": [
    "from sklearn.linear_model import Ridge, Lasso, ElasticNet\n",
    "alpha = 1\n",
    "\n",
    "# Ridge\n",
    "ridge_model = Ridge(alpha = alpha)\n",
    "ridge_model.fit(X_train, y_train)\n",
    "\n",
    "\n",
    "# Lasso\n",
    "lasso_model = Lasso(alpha = alpha)\n",
    "lasso_model.fit(X_train, y_train);"
   ]
  },
  {
   "cell_type": "markdown",
   "id": "6ca42569",
   "metadata": {},
   "source": [
    "### Lasso"
   ]
  },
  {
   "cell_type": "code",
   "execution_count": 18,
   "id": "30333cb5",
   "metadata": {},
   "outputs": [],
   "source": [
    "from sklearn.linear_model import RidgeCV, LassoCV\n",
    "alphas = [0.01, 1, 100]\n",
    "\n",
    "# Ridge\n",
    "ridgeCV_model = RidgeCV(alphas = alphas)\n",
    "ridgeCV_model.fit(X_train, y_train)\n",
    "\n",
    "# Lasso\n",
    "lassoCV_model = LassoCV(alphas = alphas)\n",
    "lassoCV_model.fit(X_train, y_train);"
   ]
  },
  {
   "cell_type": "code",
   "execution_count": 20,
   "id": "d460719e",
   "metadata": {},
   "outputs": [
    {
     "name": "stdout",
     "output_type": "stream",
     "text": [
      "Ridge alpha: 1.0\n",
      "Lasso alpha: 0.01\n"
     ]
    }
   ],
   "source": [
    "print('Ridge alpha:', ridgeCV_model.alpha_)\n",
    "print('Lasso alpha:', lassoCV_model.alpha_)"
   ]
  },
  {
   "cell_type": "code",
   "execution_count": null,
   "id": "e2dac2c0",
   "metadata": {},
   "outputs": [],
   "source": []
  },
  {
   "cell_type": "markdown",
   "id": "05f7f832",
   "metadata": {},
   "source": [
    "### Elastic Net"
   ]
  },
  {
   "cell_type": "code",
   "execution_count": null,
   "id": "b28534e9",
   "metadata": {},
   "outputs": [],
   "source": [
    "sk_elastic_net_regression = ElasticNet()\n",
    "sk_elastic_net_regression.fit(X_train, y_train)\n",
    "\n",
    "sk_elastic_net_pred_res = sk_elastic_net_regression.predict(X_test)\n",
    "sk_elastic_net_pred_train_res = sk_elastic_net_regression.predict(X_train)\n",
    "\n",
    "sk_elastic_net_r2 = r2_score(y_test, sk_elastic_net_pred_res)\n",
    "sk_elastic_net_train_r2 = r2_score(y_train, sk_elastic_net_pred_train_res)\n",
    "\n",
    "sk_elastic_net_mse = mean_squared_error(y_test, sk_elastic_net_pred_res)\n",
    "sk_elastic_net_train_mse = mean_squared_error(y_train, sk_elastic_net_pred_train_res)\n",
    "\n",
    "sk_elastic_net_mape = mean_absolute_percentage_error(y_test, sk_elastic_net_pred_res)\n",
    "sk_elastic_net_train_mape = mean_absolute_percentage_error(y_train, sk_elastic_net_pred_train_res)\n",
    "\n",
    "print(f'ElasticNet R2 score: {sk_elastic_net_r2}')\n",
    "print(f'ElasticNet train R2 score: {sk_elastic_net_train_r2}', '\\n')\n",
    "\n",
    "print(f'ElasticNet MSE: {sk_elastic_net_mse}')\n",
    "print(f'ElasticNet train MSE: {sk_elastic_net_train_mse}', '\\n')\n",
    "\n",
    "print(f'ElasticNet MAPE: {sk_elastic_net_mape}')\n",
    "print(f'ElasticNet train MAPE: {sk_elastic_net_train_mape}', '\\n')\n",
    "\n",
    "print(f'prediction: {sk_elastic_net_pred_res}')"
   ]
  }
 ],
 "metadata": {
  "kernelspec": {
   "display_name": "myenv",
   "language": "python",
   "name": "python3"
  },
  "language_info": {
   "codemirror_mode": {
    "name": "ipython",
    "version": 3
   },
   "file_extension": ".py",
   "mimetype": "text/x-python",
   "name": "python",
   "nbconvert_exporter": "python",
   "pygments_lexer": "ipython3",
   "version": "3.12.11"
  }
 },
 "nbformat": 4,
 "nbformat_minor": 5
}
