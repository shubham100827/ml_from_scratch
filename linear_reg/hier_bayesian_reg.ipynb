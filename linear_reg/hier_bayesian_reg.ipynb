{
 "cells": [
  {
   "cell_type": "code",
   "execution_count": 10,
   "id": "cb2db3f6",
   "metadata": {},
   "outputs": [
    {
     "name": "stdout",
     "output_type": "stream",
     "text": [
      "Requirement already satisfied: pymc in c:\\users\\dell\\miniforge3\\envs\\myenv\\lib\\site-packages (5.25.1)\n",
      "Requirement already satisfied: arviz in c:\\users\\dell\\miniforge3\\envs\\myenv\\lib\\site-packages (0.22.0)\n",
      "Requirement already satisfied: cachetools>=4.2.1 in c:\\users\\dell\\appdata\\roaming\\python\\python312\\site-packages (from pymc) (5.5.2)\n",
      "Requirement already satisfied: cloudpickle in c:\\users\\dell\\miniforge3\\envs\\myenv\\lib\\site-packages (from pymc) (3.1.1)\n",
      "Requirement already satisfied: numpy>=1.25.0 in c:\\users\\dell\\appdata\\roaming\\python\\python312\\site-packages (from pymc) (2.2.3)\n",
      "Requirement already satisfied: pandas>=0.24.0 in c:\\users\\dell\\appdata\\roaming\\python\\python312\\site-packages (from pymc) (2.2.3)\n",
      "Requirement already satisfied: pytensor<2.32,>=2.31.7 in c:\\users\\dell\\miniforge3\\envs\\myenv\\lib\\site-packages (from pymc) (2.31.7)\n",
      "Requirement already satisfied: rich>=13.7.1 in c:\\users\\dell\\appdata\\roaming\\python\\python312\\site-packages (from pymc) (14.1.0)\n",
      "Requirement already satisfied: scipy>=1.4.1 in c:\\users\\dell\\miniforge3\\envs\\myenv\\lib\\site-packages (from pymc) (1.16.1)\n",
      "Requirement already satisfied: threadpoolctl<4.0.0,>=3.1.0 in c:\\users\\dell\\miniforge3\\envs\\myenv\\lib\\site-packages (from pymc) (3.6.0)\n",
      "Requirement already satisfied: typing-extensions>=3.7.4 in c:\\users\\dell\\appdata\\roaming\\python\\python312\\site-packages (from pymc) (4.12.2)\n",
      "Requirement already satisfied: setuptools>=59.0.0 in c:\\users\\dell\\appdata\\roaming\\python\\python312\\site-packages (from pytensor<2.32,>=2.31.7->pymc) (75.8.0)\n",
      "Requirement already satisfied: filelock>=3.15 in c:\\users\\dell\\appdata\\roaming\\python\\python312\\site-packages (from pytensor<2.32,>=2.31.7->pymc) (3.16.1)\n",
      "Requirement already satisfied: etuples in c:\\users\\dell\\miniforge3\\envs\\myenv\\lib\\site-packages (from pytensor<2.32,>=2.31.7->pymc) (0.3.10)\n",
      "Requirement already satisfied: logical-unification in c:\\users\\dell\\miniforge3\\envs\\myenv\\lib\\site-packages (from pytensor<2.32,>=2.31.7->pymc) (0.4.6)\n",
      "Requirement already satisfied: miniKanren in c:\\users\\dell\\miniforge3\\envs\\myenv\\lib\\site-packages (from pytensor<2.32,>=2.31.7->pymc) (1.0.5)\n",
      "Requirement already satisfied: cons in c:\\users\\dell\\miniforge3\\envs\\myenv\\lib\\site-packages (from pytensor<2.32,>=2.31.7->pymc) (0.4.7)\n",
      "Requirement already satisfied: matplotlib>=3.8 in c:\\users\\dell\\miniforge3\\envs\\myenv\\lib\\site-packages (from arviz) (3.10.3)\n",
      "Requirement already satisfied: packaging in c:\\users\\dell\\appdata\\roaming\\python\\python312\\site-packages (from arviz) (24.2)\n",
      "Requirement already satisfied: xarray>=2023.7.0 in c:\\users\\dell\\miniforge3\\envs\\myenv\\lib\\site-packages (from arviz) (2025.7.1)\n",
      "Requirement already satisfied: h5netcdf>=1.0.2 in c:\\users\\dell\\miniforge3\\envs\\myenv\\lib\\site-packages (from arviz) (1.6.4)\n",
      "Requirement already satisfied: xarray-einstats>=0.3 in c:\\users\\dell\\miniforge3\\envs\\myenv\\lib\\site-packages (from arviz) (0.9.1)\n",
      "Requirement already satisfied: h5py in c:\\users\\dell\\miniforge3\\envs\\myenv\\lib\\site-packages (from h5netcdf>=1.0.2->arviz) (3.14.0)\n",
      "Requirement already satisfied: contourpy>=1.0.1 in c:\\users\\dell\\miniforge3\\envs\\myenv\\lib\\site-packages (from matplotlib>=3.8->arviz) (1.3.2)\n",
      "Requirement already satisfied: cycler>=0.10 in c:\\users\\dell\\miniforge3\\envs\\myenv\\lib\\site-packages (from matplotlib>=3.8->arviz) (0.12.1)\n",
      "Requirement already satisfied: fonttools>=4.22.0 in c:\\users\\dell\\miniforge3\\envs\\myenv\\lib\\site-packages (from matplotlib>=3.8->arviz) (4.58.5)\n",
      "Requirement already satisfied: kiwisolver>=1.3.1 in c:\\users\\dell\\miniforge3\\envs\\myenv\\lib\\site-packages (from matplotlib>=3.8->arviz) (1.4.8)\n",
      "Requirement already satisfied: pillow>=8 in c:\\users\\dell\\miniforge3\\envs\\myenv\\lib\\site-packages (from matplotlib>=3.8->arviz) (11.3.0)\n",
      "Requirement already satisfied: pyparsing>=2.3.1 in c:\\users\\dell\\appdata\\roaming\\python\\python312\\site-packages (from matplotlib>=3.8->arviz) (3.2.3)\n",
      "Requirement already satisfied: python-dateutil>=2.7 in c:\\users\\dell\\appdata\\roaming\\python\\python312\\site-packages (from matplotlib>=3.8->arviz) (2.9.0.post0)\n",
      "Requirement already satisfied: pytz>=2020.1 in c:\\users\\dell\\appdata\\roaming\\python\\python312\\site-packages (from pandas>=0.24.0->pymc) (2025.1)\n",
      "Requirement already satisfied: tzdata>=2022.7 in c:\\users\\dell\\appdata\\roaming\\python\\python312\\site-packages (from pandas>=0.24.0->pymc) (2025.1)\n",
      "Requirement already satisfied: six>=1.5 in c:\\users\\dell\\appdata\\roaming\\python\\python312\\site-packages (from python-dateutil>=2.7->matplotlib>=3.8->arviz) (1.17.0)\n",
      "Requirement already satisfied: markdown-it-py>=2.2.0 in c:\\users\\dell\\appdata\\roaming\\python\\python312\\site-packages (from rich>=13.7.1->pymc) (3.0.0)\n",
      "Requirement already satisfied: pygments<3.0.0,>=2.13.0 in c:\\users\\dell\\appdata\\roaming\\python\\python312\\site-packages (from rich>=13.7.1->pymc) (2.19.2)\n",
      "Requirement already satisfied: mdurl~=0.1 in c:\\users\\dell\\appdata\\roaming\\python\\python312\\site-packages (from markdown-it-py>=2.2.0->rich>=13.7.1->pymc) (0.1.2)\n",
      "Requirement already satisfied: toolz in c:\\users\\dell\\miniforge3\\envs\\myenv\\lib\\site-packages (from logical-unification->pytensor<2.32,>=2.31.7->pymc) (1.0.0)\n",
      "Requirement already satisfied: multipledispatch in c:\\users\\dell\\miniforge3\\envs\\myenv\\lib\\site-packages (from logical-unification->pytensor<2.32,>=2.31.7->pymc) (1.0.0)\n"
     ]
    }
   ],
   "source": [
    "!pip install pymc arviz"
   ]
  },
  {
   "cell_type": "code",
   "execution_count": 3,
   "id": "4ecd181c",
   "metadata": {},
   "outputs": [
    {
     "name": "stdout",
     "output_type": "stream",
     "text": [
      "Data file not found. Please check the path and filename.\n"
     ]
    }
   ],
   "source": [
    "import numpy as np\n",
    "import pandas as pd\n",
    "\n",
    "import seaborn as sns\n",
    "import matplotlib.pyplot as plt\n",
    "\n",
    "import pymc as pm\n",
    "import arviz as az\n",
    "\n",
    "# Load data (update path as needed)\n",
    "try:\n",
    "    data = pd.read_csv('../Classified Data.csv')  # Update this path if needed\n",
    "except FileNotFoundError:\n",
    "    print(\"Data file not found. Please check the path and filename.\")\n",
    "    data = None\n",
    "\n",
    "if data is not None:\n",
    "    # Example: create dummy columns if not present (for demonstration)\n",
    "    if 'county' not in data.columns:\n",
    "        data['county'] = 0\n",
    "    if 'county_code' not in data.columns:\n",
    "        data['county_code'] = 0\n",
    "    if 'floor' not in data.columns:\n",
    "        data['floor'] = 0\n",
    "    if 'log_radon' not in data.columns:\n",
    "        data['log_radon'] = 0\n",
    "\n",
    "    county_names = data.county.unique()\n",
    "    county_idx = data['county_code'].values\n",
    "\n",
    "    with pm.Model() as hierarchical_model:\n",
    "        # Hyperpriors\n",
    "        mu_a = pm.Normal('mu_alpha', mu=0., sigma=100**2)\n",
    "        sigma_a = pm.Uniform('sigma_alpha', lower=0, upper=100)\n",
    "        mu_b = pm.Normal('mu_beta', mu=0., sigma=100**2)\n",
    "        sigma_b = pm.Uniform('sigma_beta', lower=0, upper=100)\n",
    "\n",
    "        # Intercept for each county, distributed around group mean mu_a\n",
    "        a = pm.Normal('alpha', mu=mu_a, sigma=sigma_a, shape=len(county_names))\n",
    "        # Slope for each county, distributed around group mean mu_b\n",
    "        b = pm.Normal('beta', mu=mu_b, sigma=sigma_b, shape=len(county_names))\n",
    "\n",
    "        # Model error\n",
    "        eps = pm.Uniform('eps', lower=0, upper=100)\n",
    "\n",
    "        # Expected value\n",
    "        radon_est = a[county_idx] + b[county_idx] * data.floor.values\n",
    "\n",
    "        # Data likelihood\n",
    "        y_like = pm.Normal('y_like', mu=radon_est, sigma=eps, observed=data.log_radon)\n",
    "\n",
    "        # Sample from the posterior\n",
    "        hierarchical_trace = pm.sample(2000, tune=1000, target_accept=0.9, return_inferencedata=True)\n",
    "\n",
    "    az.plot_trace(hierarchical_trace)\n",
    "    plt.show()"
   ]
  },
  {
   "cell_type": "code",
   "execution_count": null,
   "id": "af0cd0c0",
   "metadata": {},
   "outputs": [],
   "source": []
  }
 ],
 "metadata": {
  "kernelspec": {
   "display_name": "myenv",
   "language": "python",
   "name": "python3"
  },
  "language_info": {
   "codemirror_mode": {
    "name": "ipython",
    "version": 3
   },
   "file_extension": ".py",
   "mimetype": "text/x-python",
   "name": "python",
   "nbconvert_exporter": "python",
   "pygments_lexer": "ipython3",
   "version": "3.12.11"
  }
 },
 "nbformat": 4,
 "nbformat_minor": 5
}
