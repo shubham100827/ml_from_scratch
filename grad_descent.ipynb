{
 "cells": [
  {
   "cell_type": "code",
   "execution_count": 1,
   "id": "fd651002",
   "metadata": {},
   "outputs": [],
   "source": [
    "import numpy as np\n",
    "import matplotlib.pyplot as plt"
   ]
  },
  {
   "cell_type": "code",
   "execution_count": 2,
   "id": "ce50adfd",
   "metadata": {},
   "outputs": [],
   "source": [
    "x = np.array([1.394, 5.689])\n",
    "y = np.array([2.174, 4.688])"
   ]
  },
  {
   "cell_type": "code",
   "execution_count": 3,
   "id": "294613ae",
   "metadata": {},
   "outputs": [],
   "source": [
    "def compute_cost(w, b, X, y):\n",
    "    m = X.shape[0]\n",
    "    cost = 0\n",
    "    for i in range(m):\n",
    "        f_wb = w * X[i] + b\n",
    "        cost += (f_wb - y[i]) ** 2\n",
    "\n",
    "    cost = cost / (2*m)\n",
    "    return cost"
   ]
  },
  {
   "cell_type": "code",
   "execution_count": 5,
   "id": "e72d056d",
   "metadata": {},
   "outputs": [],
   "source": [
    "def compute_gradient(X, y, w, b):\n",
    "    m = X.shape[0]\n",
    "    dj_dw = 0\n",
    "    dj_db = 0\n",
    "    for i in range(m):\n",
    "        f_wb = w*X[i] + b\n",
    "        dj_dw_i = (f_wb - y[i]) * X[i]\n",
    "        dj_db_i = (f_wb - y[i])\n",
    "        dj_dw += dj_dw_i\n",
    "        dj_db += dj_db_i\n",
    "    dj_dw /= m\n",
    "    dj_db /= m\n",
    "    return dj_dw, dj_db"
   ]
  },
  {
   "cell_type": "code",
   "execution_count": null,
   "id": "f380d6b3",
   "metadata": {},
   "outputs": [
    {
     "name": "stdout",
     "output_type": "stream",
     "text": [
      "w: 0.5853317811424052, b: 1.358047497082274\n"
     ]
    }
   ],
   "source": [
    "def gradient_descent(X, y, w_in, b_in, alpha, num_iters):\n",
    "    w = w_in\n",
    "    b = b_in\n",
    "    for i in range(num_iters):\n",
    "        dj_dw, dj_db = compute_gradient(X, y, w,b)\n",
    "        w = w - alpha*dj_dw\n",
    "        b = b - alpha*dj_db\n",
    "    return w, b\n",
    "\n",
    "w_init = 0\n",
    "b_init = 0\n",
    "iterations = 10000\n",
    "alpha = 0.01\n",
    "\n",
    "w_final, b_final = gradient_descent(x, y, w_init, b_init, alpha, iterations)\n",
    "print(f\"w: {w_final}, b: {b_final}\")"
   ]
  },
  {
   "cell_type": "code",
   "execution_count": null,
   "id": "51da43d5",
   "metadata": {},
   "outputs": [],
   "source": [
    "def gradient_descent(X, y, w_in, b_in, alpha, num_iters):\n",
    "    w = w_in\n",
    "    b = b_in\n",
    "    J_history = []\n",
    "    for i in range(num_iters):\n",
    "        dj_dw, dj_db = compute_gradient(X, y, w, b)\n",
    "        w = w - alpha * dj_dw\n",
    "        b = b - alpha * dj_db\n",
    "        if i < 100000:\n",
    "            cost = compute_cost(w, b, X, y)\n",
    "            J_history.append(cost)\n",
    "        if i % 10000 == 0:\n",
    "            print(f\"Iteration {i:4}: Cost {cost:.2f}   \")\n",
    "    return w, b, J_history"
   ]
  }
 ],
 "metadata": {
  "kernelspec": {
   "display_name": "myenv",
   "language": "python",
   "name": "python3"
  },
  "language_info": {
   "codemirror_mode": {
    "name": "ipython",
    "version": 3
   },
   "file_extension": ".py",
   "mimetype": "text/x-python",
   "name": "python",
   "nbconvert_exporter": "python",
   "pygments_lexer": "ipython3",
   "version": "3.12.11"
  }
 },
 "nbformat": 4,
 "nbformat_minor": 5
}
